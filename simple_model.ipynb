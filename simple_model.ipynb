{
 "cells": [
  {
   "cell_type": "code",
   "execution_count": 28,
   "metadata": {},
   "outputs": [],
   "source": [
    "import torch\n",
    "from torch import nn\n",
    "from data_loader import get_loader\n",
    "\n",
    "torch.cuda.set_device(0)"
   ]
  },
  {
   "cell_type": "code",
   "execution_count": 29,
   "metadata": {},
   "outputs": [],
   "source": [
    "class SimpleAutoencoder(nn.Module):\n",
    "    def __init__(self, input_dim):\n",
    "        super(SimpleAutoencoder, self).__init__()\n",
    "        \n",
    "        layers = []\n",
    "        layers += [nn.Linear(input_dim, 200)]\n",
    "        layers += [nn.ReLU(True)]\n",
    "        layers += [nn.Linear(200, 100)]\n",
    "        layers += [nn.ReLU(True)]\n",
    "        layers += [nn.Linear(100, 50)]\n",
    "        layers += [nn.ReLU(True)]\n",
    "        layers += [nn.Linear(50, 10)]\n",
    "        layers += [nn.ReLU(True)]\n",
    "        layers += [nn.Linear(10, 5)]\n",
    "        self.encoder = nn.Sequential(*layers)\n",
    "        \n",
    "        layers = []\n",
    "        layers += [nn.Linear(5, 10)]\n",
    "        layers += [nn.ReLU(True)]\n",
    "        layers += [nn.Linear(10, 50)]\n",
    "        layers += [nn.ReLU(True)]\n",
    "        layers += [nn.Linear(50, 100)]\n",
    "        layers += [nn.ReLU(True)]\n",
    "        layers += [nn.Linear(100, 200)]\n",
    "        layers += [nn.ReLU(True)]\n",
    "        layers += [nn.Linear(200, input_dim)]\n",
    "        self.decoder = nn.Sequential(*layers)\n",
    "        \n",
    "    def forward(self, x):\n",
    "        x = self.encoder(x)\n",
    "        x = self.decoder(x)\n",
    "        return x"
   ]
  },
  {
   "cell_type": "code",
   "execution_count": 30,
   "metadata": {},
   "outputs": [],
   "source": [
    "timeframe = 60\n",
    "data = get_loader(timeframe=timeframe, batch_size = 8192)"
   ]
  },
  {
   "cell_type": "code",
   "execution_count": 31,
   "metadata": {},
   "outputs": [],
   "source": [
    "# define input dimention\n",
    "lr = 1e-3\n",
    "ds = iter(data)\n",
    "input_dim = next(ds).shape[2]\n",
    "# inizialise all needed parameters\n",
    "model = SimpleAutoencoder(input_dim=input_dim)\n",
    "criterion = nn.MSELoss()\n",
    "optimizer = torch.optim.Adam(model.parameters(), lr=lr)"
   ]
  },
  {
   "cell_type": "code",
   "execution_count": 32,
   "metadata": {},
   "outputs": [
    {
     "data": {
      "text/plain": [
       "SimpleAutoencoder(\n",
       "  (encoder): Sequential(\n",
       "    (0): Linear(in_features=420, out_features=200, bias=True)\n",
       "    (1): ReLU(inplace)\n",
       "    (2): Linear(in_features=200, out_features=100, bias=True)\n",
       "    (3): ReLU(inplace)\n",
       "    (4): Linear(in_features=100, out_features=50, bias=True)\n",
       "    (5): ReLU(inplace)\n",
       "    (6): Linear(in_features=50, out_features=10, bias=True)\n",
       "    (7): ReLU(inplace)\n",
       "    (8): Linear(in_features=10, out_features=5, bias=True)\n",
       "  )\n",
       "  (decoder): Sequential(\n",
       "    (0): Linear(in_features=5, out_features=10, bias=True)\n",
       "    (1): ReLU(inplace)\n",
       "    (2): Linear(in_features=10, out_features=50, bias=True)\n",
       "    (3): ReLU(inplace)\n",
       "    (4): Linear(in_features=50, out_features=100, bias=True)\n",
       "    (5): ReLU(inplace)\n",
       "    (6): Linear(in_features=100, out_features=200, bias=True)\n",
       "    (7): ReLU(inplace)\n",
       "    (8): Linear(in_features=200, out_features=420, bias=True)\n",
       "  )\n",
       ")"
      ]
     },
     "execution_count": 32,
     "metadata": {},
     "output_type": "execute_result"
    }
   ],
   "source": [
    "model.cuda()"
   ]
  },
  {
   "cell_type": "code",
   "execution_count": 33,
   "metadata": {
    "scrolled": false
   },
   "outputs": [
    {
     "name": "stdout",
     "output_type": "stream",
     "text": [
      "epoch [1/1], loss:0.0153, MSE_loss:0.0000\n"
     ]
    }
   ],
   "source": [
    "epoch_num = 1\n",
    "# model = model.float\n",
    "\n",
    "model.train()\n",
    "for epoch in range(epoch_num):\n",
    "    for i, x in enumerate(data):\n",
    "        # forward\n",
    "        x = x.float()\n",
    "        y = model(x.cuda()).float()\n",
    "        loss = criterion(y, x.cuda())\n",
    "#         MSE_loss = nn.CrossEntropyLoss()(y, x)\n",
    "        # backward\n",
    "        optimizer.zero_grad()\n",
    "        loss.backward()\n",
    "        optimizer.step()\n",
    "#         print(i)\n",
    "    # ------- log output ---------\n",
    "    print('epoch [{}/{}], loss:{:.4f}, MSE_loss:{:.4f}'\n",
    "          .format(epoch + 1, epoch_num, loss.data, 0))\n",
    "   "
   ]
  },
  {
   "cell_type": "code",
   "execution_count": 35,
   "metadata": {},
   "outputs": [
    {
     "name": "stdout",
     "output_type": "stream",
     "text": [
      "tensor(0.0121, device='cuda:0', grad_fn=<MseLossBackward>)\n"
     ]
    }
   ],
   "source": [
    "model.eval()\n",
    "for i, x in enumerate(data):\n",
    "    x = x.float()\n",
    "    y = model(x[0].cuda())\n",
    "    loss = criterion(y,x[0].cuda())\n",
    "    print(criterion(y,x[0].cuda()))\n",
    "    break;"
   ]
  },
  {
   "cell_type": "code",
   "execution_count": 36,
   "metadata": {},
   "outputs": [
    {
     "data": {
      "text/plain": [
       "tensor(0.0121, device='cuda:0')"
      ]
     },
     "execution_count": 36,
     "metadata": {},
     "output_type": "execute_result"
    }
   ],
   "source": [
    "loss.data"
   ]
  },
  {
   "cell_type": "code",
   "execution_count": 37,
   "metadata": {},
   "outputs": [],
   "source": [
    "# test soll folgendes ausgeben\n",
    "# 10 höchsten Werte mit Datum!\n"
   ]
  },
  {
   "cell_type": "code",
   "execution_count": 38,
   "metadata": {},
   "outputs": [],
   "source": [
    "import pandas as pd"
   ]
  },
  {
   "cell_type": "code",
   "execution_count": 39,
   "metadata": {},
   "outputs": [],
   "source": [
    "df_autoencoder = pd.read_csv('data/autoencoder_v1_PAH3DEEUR_1 Min_Bid_2008.10.21_2018.10.27', header=None)\n",
    "df = pd.read_csv('data/PAH3DEEUR_1 Min_Bid_2008.10.21_2018.10.27.csv')"
   ]
  },
  {
   "cell_type": "code",
   "execution_count": 41,
   "metadata": {},
   "outputs": [
    {
     "name": "stdout",
     "output_type": "stream",
     "text": [
      "(1322758, 7)\n",
      "(1322758, 6)\n"
     ]
    }
   ],
   "source": [
    "print(df_autoencoder.shape)\n",
    "print(df.shape)\n",
    "dp = get_loader(batch_size=1, timeframe=timeframe)"
   ]
  },
  {
   "cell_type": "code",
   "execution_count": 61,
   "metadata": {},
   "outputs": [],
   "source": [
    "result = []\n",
    "for i, x in enumerate(dp):\n",
    "    # add value to pandas \n",
    "#     x = x.unsqueeze(1)\n",
    "    a = criterion(x.float().cuda(), model(x.float().cuda()).cuda()).data.cpu().numpy()\n",
    "    result.append(a)"
   ]
  },
  {
   "cell_type": "code",
   "execution_count": 62,
   "metadata": {},
   "outputs": [],
   "source": [
    "df_r = pd.DataFrame(result)"
   ]
  },
  {
   "cell_type": "code",
   "execution_count": 63,
   "metadata": {},
   "outputs": [],
   "source": [
    "df_r.to_csv('data/result.csv', header=None)"
   ]
  },
  {
   "cell_type": "code",
   "execution_count": 64,
   "metadata": {},
   "outputs": [
    {
     "data": {
      "text/plain": [
       "514550    1.333259\n",
       "514552    1.316868\n",
       "514551    1.316737\n",
       "514549    1.310680\n",
       "514548    1.285482\n",
       "Name: 0, dtype: float32"
      ]
     },
     "execution_count": 64,
     "metadata": {},
     "output_type": "execute_result"
    }
   ],
   "source": [
    "df_r[0].nlargest(5)"
   ]
  },
  {
   "cell_type": "code",
   "execution_count": 65,
   "metadata": {},
   "outputs": [
    {
     "data": {
      "text/html": [
       "<div>\n",
       "<style scoped>\n",
       "    .dataframe tbody tr th:only-of-type {\n",
       "        vertical-align: middle;\n",
       "    }\n",
       "\n",
       "    .dataframe tbody tr th {\n",
       "        vertical-align: top;\n",
       "    }\n",
       "\n",
       "    .dataframe thead th {\n",
       "        text-align: right;\n",
       "    }\n",
       "</style>\n",
       "<table border=\"1\" class=\"dataframe\">\n",
       "  <thead>\n",
       "    <tr style=\"text-align: right;\">\n",
       "      <th></th>\n",
       "      <th>0</th>\n",
       "    </tr>\n",
       "  </thead>\n",
       "  <tbody>\n",
       "    <tr>\n",
       "      <th>count</th>\n",
       "      <td>1.322698e+06</td>\n",
       "    </tr>\n",
       "    <tr>\n",
       "      <th>mean</th>\n",
       "      <td>1.037955e-02</td>\n",
       "    </tr>\n",
       "    <tr>\n",
       "      <th>std</th>\n",
       "      <td>3.487656e-02</td>\n",
       "    </tr>\n",
       "    <tr>\n",
       "      <th>min</th>\n",
       "      <td>1.323164e-05</td>\n",
       "    </tr>\n",
       "    <tr>\n",
       "      <th>25%</th>\n",
       "      <td>1.328233e-05</td>\n",
       "    </tr>\n",
       "    <tr>\n",
       "      <th>50%</th>\n",
       "      <td>1.328233e-05</td>\n",
       "    </tr>\n",
       "    <tr>\n",
       "      <th>75%</th>\n",
       "      <td>4.294764e-03</td>\n",
       "    </tr>\n",
       "    <tr>\n",
       "      <th>max</th>\n",
       "      <td>1.333259e+00</td>\n",
       "    </tr>\n",
       "  </tbody>\n",
       "</table>\n",
       "</div>"
      ],
      "text/plain": [
       "                  0\n",
       "count  1.322698e+06\n",
       "mean   1.037955e-02\n",
       "std    3.487656e-02\n",
       "min    1.323164e-05\n",
       "25%    1.328233e-05\n",
       "50%    1.328233e-05\n",
       "75%    4.294764e-03\n",
       "max    1.333259e+00"
      ]
     },
     "execution_count": 65,
     "metadata": {},
     "output_type": "execute_result"
    }
   ],
   "source": [
    "df_r.describe()"
   ]
  },
  {
   "cell_type": "code",
   "execution_count": 66,
   "metadata": {},
   "outputs": [
    {
     "data": {
      "text/html": [
       "<div>\n",
       "<style scoped>\n",
       "    .dataframe tbody tr th:only-of-type {\n",
       "        vertical-align: middle;\n",
       "    }\n",
       "\n",
       "    .dataframe tbody tr th {\n",
       "        vertical-align: top;\n",
       "    }\n",
       "\n",
       "    .dataframe thead th {\n",
       "        text-align: right;\n",
       "    }\n",
       "</style>\n",
       "<table border=\"1\" class=\"dataframe\">\n",
       "  <thead>\n",
       "    <tr style=\"text-align: right;\">\n",
       "      <th></th>\n",
       "      <th>Time (UTC)</th>\n",
       "      <th>Open</th>\n",
       "      <th>High</th>\n",
       "      <th>Low</th>\n",
       "      <th>Close</th>\n",
       "      <th>Volume</th>\n",
       "    </tr>\n",
       "  </thead>\n",
       "  <tbody>\n",
       "    <tr>\n",
       "      <th>513047</th>\n",
       "      <td>2016.08.31 13:49:00</td>\n",
       "      <td>45.94</td>\n",
       "      <td>45.975</td>\n",
       "      <td>45.939</td>\n",
       "      <td>45.96</td>\n",
       "      <td>6.2002</td>\n",
       "    </tr>\n",
       "  </tbody>\n",
       "</table>\n",
       "</div>"
      ],
      "text/plain": [
       "                 Time (UTC)   Open    High     Low  Close  Volume \n",
       "513047  2016.08.31 13:49:00  45.94  45.975  45.939  45.96   6.2002"
      ]
     },
     "execution_count": 66,
     "metadata": {},
     "output_type": "execute_result"
    }
   ],
   "source": [
    "df[513047:513047+1]"
   ]
  },
  {
   "cell_type": "code",
   "execution_count": 67,
   "metadata": {},
   "outputs": [],
   "source": [
    "import matplotlib.pyplot as plt"
   ]
  },
  {
   "cell_type": "code",
   "execution_count": 68,
   "metadata": {},
   "outputs": [
    {
     "data": {
      "image/png": "[encoded data removed]",
      "text/plain": [
       "<Figure size 432x288 with 1 Axes>"
      ]
     },
     "metadata": {},
     "output_type": "display_data"
    }
   ],
   "source": [
    "df_r.plot()\n",
    "plt.show()"
   ]
  },
  {
   "cell_type": "code",
   "execution_count": 102,
   "metadata": {},
   "outputs": [
    {
     "data": {
      "text/html": [
       "<div>\n",
       "<style scoped>\n",
       "    .dataframe tbody tr th:only-of-type {\n",
       "        vertical-align: middle;\n",
       "    }\n",
       "\n",
       "    .dataframe tbody tr th {\n",
       "        vertical-align: top;\n",
       "    }\n",
       "\n",
       "    .dataframe thead th {\n",
       "        text-align: right;\n",
       "    }\n",
       "</style>\n",
       "<table border=\"1\" class=\"dataframe\">\n",
       "  <thead>\n",
       "    <tr style=\"text-align: right;\">\n",
       "      <th></th>\n",
       "      <th>Time (UTC)</th>\n",
       "      <th>Open</th>\n",
       "      <th>High</th>\n",
       "      <th>Low</th>\n",
       "      <th>Close</th>\n",
       "      <th>Volume</th>\n",
       "    </tr>\n",
       "  </thead>\n",
       "  <tbody>\n",
       "    <tr>\n",
       "      <th>1315073</th>\n",
       "      <td>2018.10.19 12:55:00</td>\n",
       "      <td>53.538</td>\n",
       "      <td>53.737</td>\n",
       "      <td>53.498</td>\n",
       "      <td>53.727</td>\n",
       "      <td>2.81701</td>\n",
       "    </tr>\n",
       "  </tbody>\n",
       "</table>\n",
       "</div>"
      ],
      "text/plain": [
       "                  Time (UTC)    Open    High     Low   Close  Volume \n",
       "1315073  2018.10.19 12:55:00  53.538  53.737  53.498  53.727  2.81701"
      ]
     },
     "execution_count": 102,
     "metadata": {},
     "output_type": "execute_result"
    }
   ],
   "source": [
    "# df_r[303805-25:303805+15]\n",
    "df[1315013+timeframe:1315013+timeframe+1]"
   ]
  },
  {
   "cell_type": "code",
   "execution_count": 101,
   "metadata": {},
   "outputs": [
    {
     "data": {
      "text/html": [
       "<div>\n",
       "<style scoped>\n",
       "    .dataframe tbody tr th:only-of-type {\n",
       "        vertical-align: middle;\n",
       "    }\n",
       "\n",
       "    .dataframe tbody tr th {\n",
       "        vertical-align: top;\n",
       "    }\n",
       "\n",
       "    .dataframe thead th {\n",
       "        text-align: right;\n",
       "    }\n",
       "</style>\n",
       "<table border=\"1\" class=\"dataframe\">\n",
       "  <thead>\n",
       "    <tr style=\"text-align: right;\">\n",
       "      <th></th>\n",
       "      <th>0</th>\n",
       "    </tr>\n",
       "  </thead>\n",
       "  <tbody>\n",
       "    <tr>\n",
       "      <th>1315013</th>\n",
       "      <td>0.404633</td>\n",
       "    </tr>\n",
       "    <tr>\n",
       "      <th>1315014</th>\n",
       "      <td>0.411485</td>\n",
       "    </tr>\n",
       "    <tr>\n",
       "      <th>1315015</th>\n",
       "      <td>0.410038</td>\n",
       "    </tr>\n",
       "    <tr>\n",
       "      <th>1315016</th>\n",
       "      <td>0.411538</td>\n",
       "    </tr>\n",
       "    <tr>\n",
       "      <th>1315017</th>\n",
       "      <td>0.410394</td>\n",
       "    </tr>\n",
       "    <tr>\n",
       "      <th>1315018</th>\n",
       "      <td>0.407227</td>\n",
       "    </tr>\n",
       "    <tr>\n",
       "      <th>1315019</th>\n",
       "      <td>0.416835</td>\n",
       "    </tr>\n",
       "    <tr>\n",
       "      <th>1315020</th>\n",
       "      <td>0.416084</td>\n",
       "    </tr>\n",
       "    <tr>\n",
       "      <th>1315021</th>\n",
       "      <td>0.415020</td>\n",
       "    </tr>\n",
       "    <tr>\n",
       "      <th>1315022</th>\n",
       "      <td>0.414075</td>\n",
       "    </tr>\n",
       "    <tr>\n",
       "      <th>1315023</th>\n",
       "      <td>0.416225</td>\n",
       "    </tr>\n",
       "    <tr>\n",
       "      <th>1315024</th>\n",
       "      <td>0.411785</td>\n",
       "    </tr>\n",
       "    <tr>\n",
       "      <th>1315025</th>\n",
       "      <td>0.407512</td>\n",
       "    </tr>\n",
       "    <tr>\n",
       "      <th>1315026</th>\n",
       "      <td>0.405271</td>\n",
       "    </tr>\n",
       "    <tr>\n",
       "      <th>1315027</th>\n",
       "      <td>0.407284</td>\n",
       "    </tr>\n",
       "    <tr>\n",
       "      <th>1315028</th>\n",
       "      <td>0.406639</td>\n",
       "    </tr>\n",
       "    <tr>\n",
       "      <th>1315029</th>\n",
       "      <td>0.402169</td>\n",
       "    </tr>\n",
       "  </tbody>\n",
       "</table>\n",
       "</div>"
      ],
      "text/plain": [
       "                0\n",
       "1315013  0.404633\n",
       "1315014  0.411485\n",
       "1315015  0.410038\n",
       "1315016  0.411538\n",
       "1315017  0.410394\n",
       "1315018  0.407227\n",
       "1315019  0.416835\n",
       "1315020  0.416084\n",
       "1315021  0.415020\n",
       "1315022  0.414075\n",
       "1315023  0.416225\n",
       "1315024  0.411785\n",
       "1315025  0.407512\n",
       "1315026  0.405271\n",
       "1315027  0.407284\n",
       "1315028  0.406639\n",
       "1315029  0.402169"
      ]
     },
     "execution_count": 101,
     "metadata": {},
     "output_type": "execute_result"
    }
   ],
   "source": [
    "df_p = df_r[1100000:]\n",
    "df_p[df_p[0] > 0.4]"
   ]
  },
  {
   "cell_type": "code",
   "execution_count": 88,
   "metadata": {},
   "outputs": [
    {
     "name": "stdout",
     "output_type": "stream",
     "text": [
      "torch.Size([1, 1, 420])\n"
     ]
    }
   ],
   "source": [
    "for i, x in enumerate(dp):\n",
    "    print(x.shape)\n",
    "    break"
   ]
  },
  {
   "cell_type": "code",
   "execution_count": null,
   "metadata": {},
   "outputs": [],
   "source": []
  }
 ],
 "metadata": {
  "kernelspec": {
   "display_name": "Python 2",
   "language": "python",
   "name": "python2"
  },
  "language_info": {
   "codemirror_mode": {
    "name": "ipython",
    "version": 2
   },
   "file_extension": ".py",
   "mimetype": "text/x-python",
   "name": "python",
   "nbconvert_exporter": "python",
   "pygments_lexer": "ipython2",
   "version": "2.7.13"
  }
 },
 "nbformat": 4,
 "nbformat_minor": 2
}
