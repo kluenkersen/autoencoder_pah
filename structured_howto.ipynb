{
 "cells": [
  {
   "cell_type": "code",
   "execution_count": 1,
   "metadata": {},
   "outputs": [],
   "source": [
    "# improts for our used libs\n",
    "import utils\n",
    "import torch\n",
    "import pandas as pd\n",
    "import numpy as np\n",
    "import model_simple as ms\n",
    "\n",
    "from torch import nn\n",
    "from data_loader import get_loader\n",
    "from sklearn.ensemble import RandomForestClassifier\n",
    "from sklearn.metrics import confusion_matrix"
   ]
  },
  {
   "cell_type": "markdown",
   "metadata": {},
   "source": [
    "## Create X for model and y for decision tree"
   ]
  },
  {
   "cell_type": "code",
   "execution_count": null,
   "metadata": {},
   "outputs": [],
   "source": [
    "timeframe = 30"
   ]
  },
  {
   "cell_type": "code",
   "execution_count": null,
   "metadata": {},
   "outputs": [],
   "source": [
    "utils.create_X_y('PAH3DEEUR_1 Min_Bid_2008.10.21_2018.10.27.csv', loss_ratio=3, timeframe=30)"
   ]
  },
  {
   "cell_type": "code",
   "execution_count": null,
   "metadata": {},
   "outputs": [],
   "source": [
    "# now we want to create our csv files for X and for y (X = the input for our xgboost and y the output of our xgboost)\n",
    "# remeber X will be also used for our Autoencoders\n",
    "X = pd.read_csv('data/X_PAH3DEEUR_1 Min_Bid_2008.10.21_2018.10.27.csv')\n",
    "y = pd.read_csv('data/y_PAH3DEEUR_1 Min_Bid_2008.10.21_2018.10.27.csv')"
   ]
  },
  {
   "cell_type": "markdown",
   "metadata": {},
   "source": [
    "### Just for evaulation"
   ]
  },
  {
   "cell_type": "code",
   "execution_count": null,
   "metadata": {},
   "outputs": [],
   "source": [
    "# check if same length in the table\n",
    "print(X.shape[0] == y.shape[0])\n",
    "# show me which values we got :-)\n",
    "unique, counts = np.unique(y, return_counts=True)\n",
    "dict(zip(unique, counts))"
   ]
  },
  {
   "cell_type": "markdown",
   "metadata": {},
   "source": [
    "## create model"
   ]
  },
  {
   "cell_type": "code",
   "execution_count": null,
   "metadata": {},
   "outputs": [],
   "source": [
    "# timeframe is meant the shape of tensor regarding fields\n",
    "# so can be diffrent from timeframe abofe\n",
    "ts = 60*24\n",
    "data = get_loader(data_path='data/X_PAH3DEEUR_1 Min_Bid_2008.10.21_2018.10.27.csv', timeframe=ts, batch_size=128)\n",
    "# set learning rate and input dim\n",
    "lr = 1e-1\n",
    "ds = iter(data)\n",
    "input_dim = ds.next().shape[2]\n",
    "# inizialise model\n",
    "model = ms.SimpleAutoencoder(input_dim=input_dim)\n",
    "criterion = nn.MSELoss()\n",
    "optimizer = torch.optim.Adam(model.parameters(), lr=lr)\n",
    "# model # to print my model"
   ]
  },
  {
   "cell_type": "code",
   "execution_count": null,
   "metadata": {},
   "outputs": [],
   "source": [
    "# train model\n",
    "epoch_num = 1\n",
    "model.train()\n",
    "for epoch in range(epoch_num):\n",
    "    for i, x in enumerate(data):\n",
    "        # forward\n",
    "        x = x.float()\n",
    "        y = model(x).float()\n",
    "        loss = criterion(y, x)\n",
    "        # backward\n",
    "        optimizer.zero_grad()\n",
    "        loss.backward()\n",
    "        optimizer.step()\n",
    "        \n",
    "    # ------- log output ---------\n",
    "    print('epoch [{}/{}], loss:{:.6f}, MSE_loss:{:.6f}'\n",
    "          .format(epoch + 1, epoch_num, loss.data, 0))"
   ]
  },
  {
   "cell_type": "markdown",
   "metadata": {},
   "source": [
    "## evaluate and save model result"
   ]
  },
  {
   "cell_type": "code",
   "execution_count": null,
   "metadata": {},
   "outputs": [],
   "source": [
    "dp = get_loader(data_path='data/X_PAH3DEEUR_1 Min_Bid_2008.10.21_2018.10.27.csv', timeframe=ts, batch_size=1)\n",
    "# prefill results until first dataloader element\n",
    "result = [0] * ts\n",
    "for i, x in enumerate(dp):\n",
    "    # add value to pandas \n",
    "    result.append(criterion(x.float(), model(x.float())).data.numpy())\n",
    "pd.DataFrame(result).to_csv('data/ym__PAH3DEEUR_1 Min_Bid_2008.10.21_2018.10.27.csv', header=None, index=None)"
   ]
  },
  {
   "cell_type": "markdown",
   "metadata": {},
   "source": [
    "## Decision tree"
   ]
  },
  {
   "cell_type": "code",
   "execution_count": 2,
   "metadata": {},
   "outputs": [],
   "source": [
    "X = pd.read_csv('data/ym__PAH3DEEUR_1 Min_Bid_2008.10.21_2018.10.27.csv', header=None)\n",
    "y = y = pd.read_csv('data/y_PAH3DEEUR_1 Min_Bid_2008.10.21_2018.10.27.csv')"
   ]
  },
  {
   "cell_type": "code",
   "execution_count": 3,
   "metadata": {},
   "outputs": [],
   "source": [
    "# replace 1 and 2 with just 1\n",
    "y.replace(to_replace=[2], value=1, inplace=True)"
   ]
  },
  {
   "cell_type": "code",
   "execution_count": 4,
   "metadata": {},
   "outputs": [],
   "source": [
    "X_train = pd.DataFrame(X[0])[300000:].reset_index(drop=True)\n",
    "y_train = y['2'].values.reshape(1,-1)[0][300000:]\n",
    "\n",
    "X_test = pd.DataFrame((X[0])[:300000]).reset_index(drop=True)\n",
    "y_test = y['2'].values.reshape(1,-1)[0][:300000]"
   ]
  },
  {
   "cell_type": "code",
   "execution_count": null,
   "metadata": {},
   "outputs": [],
   "source": [
    "# initialise randomforest\n",
    "clf = RandomForestClassifier()\n",
    "# fit \n",
    "clf.fit(X_train, y_train)\n",
    "# predict results\n",
    "pred = clf.predict(X_test)"
   ]
  },
  {
   "cell_type": "code",
   "execution_count": null,
   "metadata": {},
   "outputs": [],
   "source": [
    "# print confusion matrix # 600 estimators\n",
    "conf = confusion_matrix(y_test, pred)\n",
    "print (conf)"
   ]
  },
  {
   "cell_type": "code",
   "execution_count": null,
   "metadata": {},
   "outputs": [],
   "source": [
    "# print confusion matrix # 10 estimators\n",
    "conf = confusion_matrix(y_test, pred)\n",
    "print (conf)"
   ]
  },
  {
   "cell_type": "code",
   "execution_count": null,
   "metadata": {},
   "outputs": [],
   "source": [
    "# diffrent confutionmatrix for diffrent time rames and also diffrence in %"
   ]
  },
  {
   "cell_type": "code",
   "execution_count": null,
   "metadata": {},
   "outputs": [],
   "source": [
    "# get dates and time for the true positve to cross check"
   ]
  },
  {
   "cell_type": "code",
   "execution_count": null,
   "metadata": {},
   "outputs": [
    {
     "name": "stdout",
     "output_type": "stream",
     "text": [
      "1\n",
      "[[270757   1186]\n",
      " [ 27789    268]]\n",
      "5\n",
      "[[270682   1261]\n",
      " [ 27649    408]]\n"
     ]
    }
   ],
   "source": [
    "X_train_df = pd.DataFrame()\n",
    "X_test_df = pd.DataFrame()\n",
    "\n",
    "for i in range(20):\n",
    "    pct_change = i * 5    \n",
    "    if(pct_change == 0):\n",
    "        pct_change = 1\n",
    "    print(pct_change)\n",
    "    X_train_ = X_train.pct_change(periods=pct_change)\n",
    "    X_test_ = X_test.pct_change(periods=pct_change)\n",
    "    X_test_.replace([np.inf, -np.inf], np.nan, inplace=True)\n",
    "    X_train_.fillna(0, inplace=True)\n",
    "    X_test_.fillna(0, inplace=True)\n",
    "    X_train_ = pd.DataFrame(X_train_, dtype='float32')\n",
    "    X_test_ = pd.DataFrame(X_test_, dtype='float32')\n",
    "    # initialise randomforest\n",
    "    clf = RandomForestClassifier(n_estimators=100)\n",
    "    # fit \n",
    "    clf.fit(X_train_, y_train)\n",
    "    pred = clf.predict(X_test_)\n",
    "    # conf matrix\n",
    "    conf = confusion_matrix(y_test, pred)\n",
    "    print (conf)\n",
    "    \n",
    "    \n",
    "    X_train_ = X_train.pct_change(periods=pct_change)\n",
    "    X_test_ = X_test.pct_change(periods=pct_change)\n",
    "    X_test_.replace([np.inf, -np.inf], np.nan, inplace=True)\n",
    "    X_train_.fillna(0, inplace=True)\n",
    "    X_test_.fillna(0, inplace=True)\n",
    "    X_train_ = pd.DataFrame(X_train_, dtype='float32')\n",
    "    X_test_ = pd.DataFrame(X_test_, dtype='float32')\n",
    "    # initialise randomforest\n",
    "#     X_train_.values.reshape(-1,1)\n",
    "    X_train_df[str(pct_change)] = X_train_.values.reshape(-1,)\n",
    "    X_test_df[str(pct_change)] = X_test_.values.reshape(-1,)\n",
    "    \n",
    "    # fit \n",
    "    if i > 0:\n",
    "        y_train_ = np.insert(y_train, 0, ([0 for p in range(i)]))[:-i]\n",
    "        y_test_ = np.insert(y_test, 0, ([0 for p in range(i)]))[:-i]\n",
    "        clf.fit(X_train_df, y_train_)\n",
    "        pred = clf.predict(X_test_df)\n",
    "        # conf matrix\n",
    "        print(\"conf for tf \" + str(pct_change))\n",
    "        conf = confusion_matrix(y_test_, pred)\n",
    "        print (conf)\n",
    "    \n",
    "    # safe conv matrix"
   ]
  },
  {
   "cell_type": "code",
   "execution_count": null,
   "metadata": {},
   "outputs": [],
   "source": [
    "X_test_.describe()"
   ]
  },
  {
   "cell_type": "code",
   "execution_count": null,
   "metadata": {},
   "outputs": [],
   "source": [
    "X_train_[X_train_[0] == '-inf']"
   ]
  },
  {
   "cell_type": "code",
   "execution_count": null,
   "metadata": {},
   "outputs": [],
   "source": [
    "X_test_.info(verbose=True)"
   ]
  },
  {
   "cell_type": "code",
   "execution_count": null,
   "metadata": {},
   "outputs": [],
   "source": [
    "pd.DataFrame(y_test).info()"
   ]
  },
  {
   "cell_type": "code",
   "execution_count": 2,
   "metadata": {},
   "outputs": [
    {
     "data": {
      "text/plain": [
       "array([1, 2, 3, 4])"
      ]
     },
     "execution_count": 2,
     "metadata": {},
     "output_type": "execute_result"
    }
   ],
   "source": [
    "a = np.array([1,2,3,4])\n",
    "a"
   ]
  },
  {
   "cell_type": "code",
   "execution_count": 15,
   "metadata": {},
   "outputs": [],
   "source": [
    "a = np.insert(y_train, 0, (11, 11, 12))"
   ]
  },
  {
   "cell_type": "code",
   "execution_count": 16,
   "metadata": {},
   "outputs": [
    {
     "data": {
      "text/plain": [
       "array([11, 11, 12, ...,  0,  0,  0])"
      ]
     },
     "execution_count": 16,
     "metadata": {},
     "output_type": "execute_result"
    }
   ],
   "source": [
    "a[:-1]"
   ]
  },
  {
   "cell_type": "code",
   "execution_count": null,
   "metadata": {},
   "outputs": [],
   "source": [
    "p = 1\n",
    "\n",
    "np.insert(y_train, 0, ([0 for i in range(1)]))[:-p]"
   ]
  },
  {
   "cell_type": "code",
   "execution_count": null,
   "metadata": {},
   "outputs": [],
   "source": [
    "y_train"
   ]
  },
  {
   "cell_type": "code",
   "execution_count": 34,
   "metadata": {},
   "outputs": [],
   "source": [
    "y_test_ = np.insert(y_test, 0, ([0 for i in range(i)]))[:-i]"
   ]
  },
  {
   "cell_type": "code",
   "execution_count": 36,
   "metadata": {},
   "outputs": [
    {
     "data": {
      "text/plain": [
       "(1022728, 1)"
      ]
     },
     "execution_count": 36,
     "metadata": {},
     "output_type": "execute_result"
    }
   ],
   "source": [
    "X_train_df.shape"
   ]
  },
  {
   "cell_type": "code",
   "execution_count": 37,
   "metadata": {},
   "outputs": [
    {
     "data": {
      "text/plain": [
       "(0,)"
      ]
     },
     "execution_count": 37,
     "metadata": {},
     "output_type": "execute_result"
    }
   ],
   "source": [
    "y_train_.shape"
   ]
  },
  {
   "cell_type": "code",
   "execution_count": null,
   "metadata": {},
   "outputs": [],
   "source": [
    "1\n",
    "[[270787   1156]\n",
    " [ 27798    259]]\n",
    "5\n",
    "[[270667   1276]\n",
    " [ 27641    416]]\n",
    "conf for tf 5\n",
    "[[271324    620]\n",
    " [ 27919    137]]\n",
    "10\n",
    "[[270295   1648]\n",
    " [ 27455    602]]\n",
    "conf for tf 10\n",
    "[[271891     54]\n",
    " [ 28032     23]]\n",
    "15\n",
    "[[269647   2296]\n",
    " [ 27316    741]]\n",
    "conf for tf 15\n",
    "[[271912     34]\n",
    " [ 28030     24]]\n",
    "20\n",
    "[[268983   2960]\n",
    " [ 27211    846]]\n",
    "conf for tf 20\n",
    "[[271917     30]\n",
    " [ 28019     34]]\n",
    "25\n",
    "[[268549   3394]\n",
    " [ 27063    994]]\n",
    "conf for tf 25\n",
    "[[271914     34]\n",
    " [ 28009     43]]\n",
    "30\n",
    "[[267850   4093]\n",
    " [ 26962   1095]]\n",
    "conf for tf 30\n",
    "[[271912     37]\n",
    " [ 27993     58]]\n",
    "35\n",
    "[[267397   4546]\n",
    " [ 26925   1132]]\n",
    "conf for tf 35\n",
    "[[271914     36]\n",
    " [ 27971     79]]\n",
    "40\n",
    "[[266805   5138]\n",
    " [ 26741   1316]]\n",
    "conf for tf 40\n",
    "[[271899     52]\n",
    " [ 27955     94]]\n",
    "45\n",
    "[[266349   5594]\n",
    " [ 26650   1407]]\n",
    "conf for tf 45\n",
    "[[271881     71]\n",
    " [ 27939    109]]\n",
    "50\n",
    "[[266216   5727]\n",
    " [ 26711   1346]]\n",
    "conf for tf 50\n",
    "[[271885     68]\n",
    " [ 27915    132]]\n",
    "55\n",
    "[[265512   6431]\n",
    " [ 26518   1539]]\n",
    "conf for tf 55\n",
    "[[271884     70]\n",
    " [ 27889    157]]\n",
    "60\n",
    "[[265067   6876]\n",
    " [ 26448   1609]]\n",
    "conf for tf 60\n",
    "[[271888     67]\n",
    " [ 27887    158]]\n",
    "65\n",
    "[[264961   6982]\n",
    " [ 26424   1633]]\n",
    "conf for tf 65\n",
    "[[271877     78]\n",
    " [ 27862    183]]\n",
    "70\n",
    "[[264907   7036]\n",
    " [ 26357   1700]]\n",
    "conf for tf 70\n",
    "[[271872     84]\n",
    " [ 27848    196]]\n",
    "75\n",
    "[[264547   7396]\n",
    " [ 26362   1695]]\n",
    "conf for tf 75\n",
    "[[271879     78]\n",
    " [ 27804    239]]\n",
    "80\n",
    "[[264352   7591]\n",
    " [ 26255   1802]]\n",
    "conf for tf 80\n",
    "[[271843    115]\n",
    " [ 27777    265]]\n",
    "85\n",
    "[[264094   7849]\n",
    " [ 26150   1907]]\n",
    "conf for tf 85\n",
    "[[271853    106]\n",
    " [ 27751    290]]\n",
    "90\n",
    "[[263986   7957]\n",
    " [ 26266   1791]]\n",
    "conf for tf 90\n",
    "[[271839    121]\n",
    " [ 27714    326]]\n",
    "95\n",
    "[[263633   8310]\n",
    " [ 26186   1871]]\n",
    "conf for tf 95\n",
    "[[271833    128]\n",
    " [ 27684    355]]"
   ]
  }
 ],
 "metadata": {
  "kernelspec": {
   "display_name": "Python 2",
   "language": "python",
   "name": "python2"
  },
  "language_info": {
   "codemirror_mode": {
    "name": "ipython",
    "version": 2
   },
   "file_extension": ".py",
   "mimetype": "text/x-python",
   "name": "python",
   "nbconvert_exporter": "python",
   "pygments_lexer": "ipython2",
   "version": "2.7.13"
  }
 },
 "nbformat": 4,
 "nbformat_minor": 2
}
