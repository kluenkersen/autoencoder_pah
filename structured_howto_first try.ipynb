{
 "cells": [
  {
   "cell_type": "code",
   "execution_count": 1,
   "metadata": {},
   "outputs": [
    {
     "name": "stderr",
     "output_type": "stream",
     "text": [
      "/home/ec2-user/anaconda3/envs/pytorch_p36/lib/python3.6/site-packages/sklearn/ensemble/weight_boosting.py:29: DeprecationWarning: numpy.core.umath_tests is an internal NumPy module and should not be imported. It will be removed in a future NumPy release.\n",
      "  from numpy.core.umath_tests import inner1d\n"
     ]
    }
   ],
   "source": [
    "# improts for our used libs\n",
    "import utils\n",
    "import torch\n",
    "import analyse\n",
    "import pandas as pd\n",
    "import numpy as np\n",
    "import model_simple as ms\n",
    "\n",
    "from torch import nn\n",
    "from data_loader import get_loader\n",
    "from sklearn.ensemble import RandomForestClassifier\n",
    "from sklearn.metrics import confusion_matrix"
   ]
  },
  {
   "cell_type": "markdown",
   "metadata": {},
   "source": [
    "## Create X for model and y for decision tree"
   ]
  },
  {
   "cell_type": "code",
   "execution_count": 4,
   "metadata": {},
   "outputs": [],
   "source": [
    "# filename = 'PAH3DEEUR_1 Min_Bid_2008.10.21_2018.10.27.csv'\n",
    "filename = 'BAYNDEEUR_1 Min_Bid_2015.03.20_2018.10.27.csv'\n",
    "# filename = 'BMWDEEUR_1 Min_Bid_2015.03.24_2018.10.27.csv'\n",
    "\n",
    "timeframe = 30"
   ]
  },
  {
   "cell_type": "code",
   "execution_count": null,
   "metadata": {},
   "outputs": [],
   "source": [
    "utils.create_X_y(filename, loss_ratio=6, timeframe=30)"
   ]
  },
  {
   "cell_type": "code",
   "execution_count": null,
   "metadata": {},
   "outputs": [],
   "source": [
    "# now we want to create our csv files for X and for y (X = the input for our xgboost and y the output of our xgboost)\n",
    "# remeber X will be also used for our Autoencoders\n",
    "X = pd.read_csv('data/X_' + filename)\n",
    "y = pd.read_csv('data/y_' + filename)"
   ]
  },
  {
   "cell_type": "markdown",
   "metadata": {},
   "source": [
    "### Just for evaulation"
   ]
  },
  {
   "cell_type": "code",
   "execution_count": null,
   "metadata": {},
   "outputs": [],
   "source": [
    "# check if same length in the table\n",
    "print(X.shape[0] == y.shape[0])\n",
    "# show me which values we got :-)\n",
    "unique, counts = np.unique(y['5'], return_counts=True)\n",
    "dict(zip(unique, counts))"
   ]
  },
  {
   "cell_type": "markdown",
   "metadata": {},
   "source": [
    "## create model"
   ]
  },
  {
   "cell_type": "code",
   "execution_count": null,
   "metadata": {},
   "outputs": [],
   "source": [
    "# timeframe is meant the shape of tensor regarding fields\n",
    "# so can be diffrent from timeframe abofe\n",
    "ts = 60*24\n",
    "data = get_loader(data_path='data/X_' + filename, timeframe=ts, batch_size=51280)\n",
    "# set learning rate and input dim\n",
    "lr = 1e-1\n",
    "ds = iter(data)\n",
    "input_dim = ds.next().shape[2]\n",
    "# inizialise model\n",
    "model = ms.SimpleAutoencoder(input_dim=input_dim)\n",
    "criterion = nn.MSELoss()\n",
    "optimizer = torch.optim.Adam(model.parameters(), lr=lr)\n",
    "# model # to print my model"
   ]
  },
  {
   "cell_type": "code",
   "execution_count": null,
   "metadata": {},
   "outputs": [],
   "source": [
    "# train model\n",
    "epoch_num = 1\n",
    "model.cuda()\n",
    "model.train()\n",
    "criterion.cuda()\n",
    "for epoch in range(epoch_num):\n",
    "    for i, x in enumerate(data):\n",
    "        # forward\n",
    "        x = x.float().cuda()\n",
    "        y = model(x).float().cuda()\n",
    "        loss = criterion(y, x)\n",
    "        # backward\n",
    "        optimizer.zero_grad()\n",
    "        loss.backward()\n",
    "        optimizer.step()\n",
    "    # ------- log output ---------\n",
    "    print('epoch [{}/{}], loss:{:.6f}, MSE_loss:{:.6f}'\n",
    "          .format(epoch + 1, epoch_num, loss.data, 0))"
   ]
  },
  {
   "cell_type": "markdown",
   "metadata": {},
   "source": [
    "## evaluate and save model result"
   ]
  },
  {
   "cell_type": "code",
   "execution_count": null,
   "metadata": {},
   "outputs": [],
   "source": [
    "dp = get_loader(data_path='data/X_' + filename, timeframe=ts, batch_size=1)\n",
    "# prefill results until first dataloader element\n",
    "result = [0] * ts\n",
    "criterion.cuda()\n",
    "for i, x in enumerate(dp):\n",
    "    # add value to pandas \n",
    "    pred = model(x.float().cuda())\n",
    "    result.append(criterion(x.float().cuda(), pred).data.item())\n",
    "    if(i % 10000 == 0):\n",
    "        print('still running ' + str(i))\n",
    "pd.DataFrame(result).to_csv('data/ym__' + filename, header=None, index=None)"
   ]
  },
  {
   "cell_type": "markdown",
   "metadata": {},
   "source": [
    "## Decision tree"
   ]
  },
  {
   "cell_type": "code",
   "execution_count": 7,
   "metadata": {
    "scrolled": false
   },
   "outputs": [
    {
     "name": "stdout",
     "output_type": "stream",
     "text": [
      "treshhold: 0.3 i: 0\n",
      "[[395553      0]\n",
      " [ 10752      0]]\n",
      "[]\n",
      "treshhold: 0.3 i: 5\n",
      "[[395545      8]\n",
      " [ 10749      3]]\n",
      "['2015.05.29 14:51:00' '2015.06.10 15:14:00' '2015.06.19 09:54:00'\n",
      " '2015.07.03 13:01:00' '2015.09.16 15:23:00' '2015.09.24 07:28:00'\n",
      " '2015.10.14 10:55:00' '2015.10.16 09:55:00' '2015.12.03 12:39:00'\n",
      " '2016.01.07 08:07:00' '2016.01.26 08:07:00']\n",
      "2015.05.29 14:51:00\n",
      "2015.06.10 15:14:00\n",
      "2015.06.19 09:54:00\n",
      "2015.07.03 13:01:00\n",
      "2015.09.16 15:23:00\n",
      "2015.09.24 07:28:00\n",
      "2015.10.14 10:55:00\n",
      "2015.10.16 09:55:00\n",
      "2015.12.03 12:39:00\n",
      "2016.01.07 08:07:00\n",
      "2016.01.26 08:07:00\n",
      "treshhold: 0.3 i: 10\n",
      "[[395541     12]\n",
      " [ 10741     11]]\n",
      "['2015.04.21 07:13:00' '2015.05.28 13:58:00' '2015.06.11 14:35:00'\n",
      " '2015.06.19 10:02:00' '2015.06.22 09:14:00' '2015.06.22 09:15:00'\n",
      " '2015.06.22 09:17:00' '2015.07.20 10:43:00' '2015.08.24 07:03:00'\n",
      " '2015.09.03 12:39:00' '2015.09.08 07:40:00' '2015.09.21 07:05:00'\n",
      " '2015.09.24 07:31:00' '2015.10.26 09:15:00' '2015.10.26 09:17:00'\n",
      " '2015.10.28 08:08:00' '2015.10.28 08:09:00' '2015.11.06 13:34:00'\n",
      " '2015.11.17 14:03:00' '2015.12.03 13:10:00' '2015.12.03 13:11:00'\n",
      " '2015.12.04 13:14:00' '2015.12.14 15:18:00']\n",
      "2015.04.21 07:13:00\n",
      "2015.05.28 13:58:00\n",
      "2015.06.11 14:35:00\n",
      "2015.06.19 10:02:00\n",
      "2015.06.22 09:14:00\n",
      "2015.07.20 10:43:00\n",
      "2015.08.24 07:03:00\n",
      "2015.09.03 12:39:00\n",
      "2015.09.08 07:40:00\n",
      "2015.09.21 07:05:00\n",
      "2015.09.24 07:31:00\n",
      "2015.10.26 09:15:00\n",
      "2015.10.28 08:08:00\n",
      "2015.11.06 13:34:00\n",
      "2015.11.17 14:03:00\n",
      "2015.12.03 13:10:00\n",
      "2015.12.04 13:14:00\n",
      "2015.12.14 15:18:00\n",
      "treshhold: 0.3 i: 15\n",
      "[[395470     83]\n",
      " [ 10690     62]]\n",
      "['2015.03.26 08:06:00' '2015.03.26 08:07:00' '2015.03.30 13:30:00'\n",
      " '2015.03.30 13:31:00' '2015.03.30 13:33:00' '2015.03.30 13:34:00'\n",
      " '2015.03.30 13:39:00' '2015.04.17 10:10:00' '2015.04.17 10:16:00'\n",
      " '2015.04.17 10:17:00' '2015.04.17 10:19:00' '2015.04.21 07:13:00'\n",
      " '2015.05.04 07:06:00' '2015.05.04 07:07:00' '2015.05.04 07:21:00'\n",
      " '2015.05.04 07:25:00' '2015.05.04 07:26:00' '2015.05.11 11:09:00'\n",
      " '2015.05.11 13:50:00' '2015.05.15 09:57:00' '2015.05.15 09:58:00'\n",
      " '2015.05.15 09:59:00' '2015.05.26 07:09:00' '2015.05.26 07:10:00'\n",
      " '2015.05.26 07:11:00' '2015.05.26 07:12:00' '2015.05.26 07:13:00'\n",
      " '2015.05.26 07:14:00' '2015.05.26 07:15:00' '2015.05.26 07:29:00'\n",
      " '2015.06.09 09:10:00' '2015.06.09 09:11:00' '2015.06.11 14:35:00'\n",
      " '2015.06.11 14:37:00' '2015.06.11 14:39:00' '2015.06.19 09:55:00'\n",
      " '2015.06.19 09:56:00' '2015.06.19 09:57:00' '2015.06.22 08:20:00'\n",
      " '2015.06.25 13:42:00' '2015.06.25 13:43:00' '2015.06.25 13:46:00'\n",
      " '2015.06.25 13:47:00' '2015.06.25 13:52:00' '2015.07.20 10:42:00'\n",
      " '2015.07.20 10:44:00' '2015.07.20 10:45:00' '2015.07.20 10:46:00'\n",
      " '2015.07.20 10:47:00' '2015.07.20 10:48:00' '2015.07.20 10:49:00'\n",
      " '2015.07.20 10:50:00' '2015.07.20 10:51:00' '2015.07.29 07:17:00'\n",
      " '2015.07.30 13:41:00' '2015.07.30 13:42:00' '2015.07.30 13:43:00'\n",
      " '2015.07.30 13:44:00' '2015.08.21 09:56:00' '2015.08.21 09:59:00'\n",
      " '2015.08.21 10:00:00' '2015.08.24 07:03:00' '2015.08.24 07:04:00'\n",
      " '2015.08.24 07:05:00' '2015.08.24 07:06:00' '2015.08.24 07:07:00'\n",
      " '2015.08.24 07:08:00' '2015.08.24 07:09:00' '2015.08.24 07:10:00'\n",
      " '2015.08.24 07:11:00' '2015.08.24 07:12:00' '2015.08.24 13:42:00'\n",
      " '2015.09.03 12:37:00' '2015.09.03 12:38:00' '2015.09.03 12:39:00'\n",
      " '2015.09.03 12:40:00' '2015.09.03 12:41:00' '2015.09.03 12:42:00'\n",
      " '2015.09.08 07:40:00' '2015.09.08 07:41:00' '2015.09.18 09:55:00'\n",
      " '2015.09.21 07:08:00' '2015.09.21 07:09:00' '2015.10.02 12:41:00'\n",
      " '2015.10.16 07:24:00' '2015.10.16 07:26:00' '2015.10.16 07:29:00'\n",
      " '2015.10.19 07:31:00' '2015.10.19 09:44:00' '2015.10.19 09:45:00'\n",
      " '2015.10.19 09:46:00' '2015.10.19 09:47:00' '2015.10.19 09:48:00'\n",
      " '2015.10.22 12:37:00' '2015.10.22 12:39:00' '2015.10.22 12:40:00'\n",
      " '2015.10.26 09:15:00' '2015.10.26 09:16:00' '2015.10.26 09:17:00'\n",
      " '2015.10.26 09:19:00' '2015.10.26 09:20:00' '2015.10.26 09:21:00'\n",
      " '2015.10.27 08:07:00' '2015.10.27 08:08:00' '2015.10.27 08:09:00'\n",
      " '2015.10.27 08:10:00' '2015.11.06 13:34:00' '2015.11.06 13:35:00'\n",
      " '2015.11.06 13:36:00' '2015.11.06 13:37:00' '2015.11.12 08:37:00'\n",
      " '2015.11.12 08:38:00' '2015.11.12 08:39:00' '2015.11.18 14:53:00'\n",
      " '2015.11.18 14:54:00' '2015.11.18 14:55:00' '2015.11.18 14:56:00'\n",
      " '2015.11.18 14:57:00' '2015.11.20 14:44:00' '2015.11.20 14:45:00'\n",
      " '2015.11.20 14:46:00' '2015.11.20 14:47:00' '2015.11.20 14:48:00'\n",
      " '2015.11.20 14:50:00' '2015.11.20 14:51:00' '2015.11.20 14:52:00'\n",
      " '2015.11.20 14:53:00' '2015.12.03 12:41:00' '2015.12.03 12:46:00'\n",
      " '2015.12.03 12:47:00' '2015.12.14 15:23:00' '2015.12.16 15:46:00'\n",
      " '2015.12.18 10:54:00' '2015.12.18 10:58:00' '2015.12.18 11:00:00'\n",
      " '2015.12.18 11:01:00' '2015.12.18 11:02:00' '2015.12.18 11:03:00'\n",
      " '2015.12.18 11:04:00' '2015.12.18 12:12:00' '2015.12.18 12:13:00'\n",
      " '2016.01.04 08:04:00' '2016.01.04 08:05:00' '2016.01.21 13:38:00'\n",
      " '2016.01.26 08:10:00']\n",
      "2015.03.26 08:06:00\n",
      "2015.03.30 13:30:00\n",
      "2015.04.17 10:10:00\n",
      "2015.04.21 07:13:00\n",
      "2015.05.04 07:06:00\n",
      "2015.05.11 11:09:00\n",
      "2015.05.15 09:57:00\n",
      "2015.05.26 07:09:00\n",
      "2015.06.09 09:10:00\n",
      "2015.06.11 14:35:00\n",
      "2015.06.19 09:55:00\n",
      "2015.06.22 08:20:00\n",
      "2015.06.25 13:42:00\n",
      "2015.07.20 10:42:00\n",
      "2015.07.29 07:17:00\n",
      "2015.07.30 13:41:00\n",
      "2015.08.21 09:56:00\n",
      "2015.08.24 07:03:00\n",
      "2015.09.03 12:37:00\n",
      "2015.09.08 07:40:00\n",
      "2015.09.18 09:55:00\n",
      "2015.09.21 07:08:00\n",
      "2015.10.02 12:41:00\n",
      "2015.10.16 07:24:00\n",
      "2015.10.19 07:31:00\n",
      "2015.10.22 12:37:00\n",
      "2015.10.26 09:15:00\n",
      "2015.10.27 08:07:00\n",
      "2015.11.06 13:34:00\n",
      "2015.11.12 08:37:00\n",
      "2015.11.18 14:53:00\n",
      "2015.11.20 14:44:00\n",
      "2015.12.03 12:41:00\n",
      "2015.12.14 15:23:00\n",
      "2015.12.16 15:46:00\n",
      "2015.12.18 10:54:00\n",
      "2016.01.04 08:04:00\n",
      "2016.01.21 13:38:00\n",
      "2016.01.26 08:10:00\n"
     ]
    },
    {
     "ename": "KeyboardInterrupt",
     "evalue": "",
     "output_type": "error",
     "traceback": [
      "\u001b[0;31m---------------------------------------------------------------------------\u001b[0m",
      "\u001b[0;31mKeyboardInterrupt\u001b[0m                         Traceback (most recent call last)",
      "\u001b[0;32m<ipython-input-7-5bba90869821>\u001b[0m in \u001b[0;36m<module>\u001b[0;34m()\u001b[0m\n\u001b[1;32m      8\u001b[0m \u001b[0;34m\u001b[0m\u001b[0m\n\u001b[1;32m      9\u001b[0m \u001b[0mana\u001b[0m \u001b[0;34m=\u001b[0m \u001b[0manalyse\u001b[0m\u001b[0;34m.\u001b[0m\u001b[0mAnalyse\u001b[0m\u001b[0;34m(\u001b[0m\u001b[0mfilename_X\u001b[0m\u001b[0;34m,\u001b[0m \u001b[0mfilename_y\u001b[0m\u001b[0;34m,\u001b[0m \u001b[0mfilename\u001b[0m\u001b[0;34m)\u001b[0m\u001b[0;34m\u001b[0m\u001b[0m\n\u001b[0;32m---> 10\u001b[0;31m \u001b[0mana\u001b[0m\u001b[0;34m.\u001b[0m\u001b[0mxgEvaluation\u001b[0m\u001b[0;34m(\u001b[0m\u001b[0my_field\u001b[0m\u001b[0;34m=\u001b[0m\u001b[0;34m'5'\u001b[0m\u001b[0;34m,\u001b[0m \u001b[0mi_end\u001b[0m\u001b[0;34m=\u001b[0m\u001b[0;36m50\u001b[0m\u001b[0;34m,\u001b[0m \u001b[0mdebug_i\u001b[0m\u001b[0;34m=\u001b[0m\u001b[0;36m5\u001b[0m\u001b[0;34m,\u001b[0m \u001b[0mthreshold_confusionm\u001b[0m\u001b[0;34m=\u001b[0m\u001b[0;36m0.3\u001b[0m\u001b[0;34m,\u001b[0m \u001b[0mshowdates\u001b[0m\u001b[0;34m=\u001b[0m\u001b[0;36m1\u001b[0m\u001b[0;34m)\u001b[0m\u001b[0;34m\u001b[0m\u001b[0m\n\u001b[0m",
      "\u001b[0;32m~/SageMaker/autoencoder_pah/analyse.py\u001b[0m in \u001b[0;36mxgEvaluation\u001b[0;34m(self, i_end, debug_i, threshold_confusionm, y_field, showdates)\u001b[0m\n\u001b[1;32m    110\u001b[0m                 \u001b[0mdtrain\u001b[0m \u001b[0;34m=\u001b[0m \u001b[0mxgb\u001b[0m\u001b[0;34m.\u001b[0m\u001b[0mDMatrix\u001b[0m\u001b[0;34m(\u001b[0m\u001b[0mX_train_df\u001b[0m\u001b[0;34m.\u001b[0m\u001b[0mvalues\u001b[0m\u001b[0;34m,\u001b[0m \u001b[0my_train_\u001b[0m\u001b[0;34m)\u001b[0m\u001b[0;34m\u001b[0m\u001b[0m\n\u001b[1;32m    111\u001b[0m                 \u001b[0mdtest\u001b[0m \u001b[0;34m=\u001b[0m \u001b[0mxgb\u001b[0m\u001b[0;34m.\u001b[0m\u001b[0mDMatrix\u001b[0m\u001b[0;34m(\u001b[0m\u001b[0mX_test_df\u001b[0m\u001b[0;34m.\u001b[0m\u001b[0mvalues\u001b[0m\u001b[0;34m)\u001b[0m\u001b[0;34m\u001b[0m\u001b[0m\n\u001b[0;32m--> 112\u001b[0;31m                 \u001b[0mmodel\u001b[0m \u001b[0;34m=\u001b[0m \u001b[0mxgb\u001b[0m\u001b[0;34m.\u001b[0m\u001b[0mtrain\u001b[0m\u001b[0;34m(\u001b[0m\u001b[0mparams\u001b[0m\u001b[0;34m,\u001b[0m \u001b[0mdtrain\u001b[0m\u001b[0;34m,\u001b[0m \u001b[0mevals\u001b[0m\u001b[0;34m=\u001b[0m\u001b[0;34m[\u001b[0m\u001b[0;34m(\u001b[0m\u001b[0mdtrain\u001b[0m\u001b[0;34m,\u001b[0m \u001b[0;34m'train'\u001b[0m\u001b[0;34m)\u001b[0m\u001b[0;34m]\u001b[0m\u001b[0;34m,\u001b[0m \u001b[0mverbose_eval\u001b[0m\u001b[0;34m=\u001b[0m\u001b[0;32mFalse\u001b[0m\u001b[0;34m)\u001b[0m\u001b[0;34m\u001b[0m\u001b[0m\n\u001b[0m\u001b[1;32m    113\u001b[0m                 \u001b[0mpred\u001b[0m \u001b[0;34m=\u001b[0m \u001b[0mmodel\u001b[0m\u001b[0;34m.\u001b[0m\u001b[0mpredict\u001b[0m\u001b[0;34m(\u001b[0m\u001b[0mdtest\u001b[0m\u001b[0;34m)\u001b[0m\u001b[0;34m\u001b[0m\u001b[0m\n\u001b[1;32m    114\u001b[0m                 \u001b[0mconf\u001b[0m \u001b[0;34m=\u001b[0m \u001b[0mconfusion_matrix\u001b[0m\u001b[0;34m(\u001b[0m\u001b[0my_test_\u001b[0m\u001b[0;34m,\u001b[0m \u001b[0;34m(\u001b[0m\u001b[0mpred\u001b[0m\u001b[0;34m>\u001b[0m\u001b[0mthreshold_confusionm\u001b[0m\u001b[0;34m)\u001b[0m\u001b[0;34m)\u001b[0m\u001b[0;34m\u001b[0m\u001b[0m\n",
      "\u001b[0;32m~/anaconda3/envs/pytorch_p36/lib/python3.6/site-packages/xgboost/training.py\u001b[0m in \u001b[0;36mtrain\u001b[0;34m(params, dtrain, num_boost_round, evals, obj, feval, maximize, early_stopping_rounds, evals_result, verbose_eval, xgb_model, callbacks, learning_rates)\u001b[0m\n\u001b[1;32m    214\u001b[0m                            \u001b[0mevals\u001b[0m\u001b[0;34m=\u001b[0m\u001b[0mevals\u001b[0m\u001b[0;34m,\u001b[0m\u001b[0;34m\u001b[0m\u001b[0m\n\u001b[1;32m    215\u001b[0m                            \u001b[0mobj\u001b[0m\u001b[0;34m=\u001b[0m\u001b[0mobj\u001b[0m\u001b[0;34m,\u001b[0m \u001b[0mfeval\u001b[0m\u001b[0;34m=\u001b[0m\u001b[0mfeval\u001b[0m\u001b[0;34m,\u001b[0m\u001b[0;34m\u001b[0m\u001b[0m\n\u001b[0;32m--> 216\u001b[0;31m                            xgb_model=xgb_model, callbacks=callbacks)\n\u001b[0m\u001b[1;32m    217\u001b[0m \u001b[0;34m\u001b[0m\u001b[0m\n\u001b[1;32m    218\u001b[0m \u001b[0;34m\u001b[0m\u001b[0m\n",
      "\u001b[0;32m~/anaconda3/envs/pytorch_p36/lib/python3.6/site-packages/xgboost/training.py\u001b[0m in \u001b[0;36m_train_internal\u001b[0;34m(params, dtrain, num_boost_round, evals, obj, feval, xgb_model, callbacks)\u001b[0m\n\u001b[1;32m     72\u001b[0m         \u001b[0;31m# Skip the first update if it is a recovery step.\u001b[0m\u001b[0;34m\u001b[0m\u001b[0;34m\u001b[0m\u001b[0m\n\u001b[1;32m     73\u001b[0m         \u001b[0;32mif\u001b[0m \u001b[0mversion\u001b[0m \u001b[0;34m%\u001b[0m \u001b[0;36m2\u001b[0m \u001b[0;34m==\u001b[0m \u001b[0;36m0\u001b[0m\u001b[0;34m:\u001b[0m\u001b[0;34m\u001b[0m\u001b[0m\n\u001b[0;32m---> 74\u001b[0;31m             \u001b[0mbst\u001b[0m\u001b[0;34m.\u001b[0m\u001b[0mupdate\u001b[0m\u001b[0;34m(\u001b[0m\u001b[0mdtrain\u001b[0m\u001b[0;34m,\u001b[0m \u001b[0mi\u001b[0m\u001b[0;34m,\u001b[0m \u001b[0mobj\u001b[0m\u001b[0;34m)\u001b[0m\u001b[0;34m\u001b[0m\u001b[0m\n\u001b[0m\u001b[1;32m     75\u001b[0m             \u001b[0mbst\u001b[0m\u001b[0;34m.\u001b[0m\u001b[0msave_rabit_checkpoint\u001b[0m\u001b[0;34m(\u001b[0m\u001b[0;34m)\u001b[0m\u001b[0;34m\u001b[0m\u001b[0m\n\u001b[1;32m     76\u001b[0m             \u001b[0mversion\u001b[0m \u001b[0;34m+=\u001b[0m \u001b[0;36m1\u001b[0m\u001b[0;34m\u001b[0m\u001b[0m\n",
      "\u001b[0;32m~/anaconda3/envs/pytorch_p36/lib/python3.6/site-packages/xgboost/core.py\u001b[0m in \u001b[0;36mupdate\u001b[0;34m(self, dtrain, iteration, fobj)\u001b[0m\n\u001b[1;32m   1108\u001b[0m         \u001b[0;32mif\u001b[0m \u001b[0mfobj\u001b[0m \u001b[0;32mis\u001b[0m \u001b[0;32mNone\u001b[0m\u001b[0;34m:\u001b[0m\u001b[0;34m\u001b[0m\u001b[0m\n\u001b[1;32m   1109\u001b[0m             _check_call(_LIB.XGBoosterUpdateOneIter(self.handle, ctypes.c_int(iteration),\n\u001b[0;32m-> 1110\u001b[0;31m                                                     dtrain.handle))\n\u001b[0m\u001b[1;32m   1111\u001b[0m         \u001b[0;32melse\u001b[0m\u001b[0;34m:\u001b[0m\u001b[0;34m\u001b[0m\u001b[0m\n\u001b[1;32m   1112\u001b[0m             \u001b[0mpred\u001b[0m \u001b[0;34m=\u001b[0m \u001b[0mself\u001b[0m\u001b[0;34m.\u001b[0m\u001b[0mpredict\u001b[0m\u001b[0;34m(\u001b[0m\u001b[0mdtrain\u001b[0m\u001b[0;34m)\u001b[0m\u001b[0;34m\u001b[0m\u001b[0m\n",
      "\u001b[0;31mKeyboardInterrupt\u001b[0m: "
     ]
    }
   ],
   "source": [
    "filename_X = \"data/ym__\" + filename\n",
    "filename_y = 'data/y_' + filename\n",
    "# X = pd.read_csv(filename_X, header=None)\n",
    "# y = pd.read_csv(filename_y)\n",
    "\n",
    "\n",
    "# utils.xgEvaluation(X, y, y_field='5', i_end=50, debug_i=5, threshold_confusionm=0.3)\n",
    "\n",
    "ana = analyse.Analyse(filename_X, filename_y, filename)\n",
    "ana.xgEvaluation(y_field='5', i_end=50, debug_i=5, threshold_confusionm=0.3, showdates=1)"
   ]
  },
  {
   "cell_type": "raw",
   "metadata": {},
   "source": []
  },
  {
   "cell_type": "code",
   "execution_count": null,
   "metadata": {},
   "outputs": [],
   "source": []
  }
 ],
 "metadata": {
  "kernelspec": {
   "display_name": "conda_pytorch_p36",
   "language": "python",
   "name": "conda_pytorch_p36"
  },
  "language_info": {
   "codemirror_mode": {
    "name": "ipython",
    "version": 3
   },
   "file_extension": ".py",
   "mimetype": "text/x-python",
   "name": "python",
   "nbconvert_exporter": "python",
   "pygments_lexer": "ipython3",
   "version": "3.6.5"
  }
 },
 "nbformat": 4,
 "nbformat_minor": 2
}
