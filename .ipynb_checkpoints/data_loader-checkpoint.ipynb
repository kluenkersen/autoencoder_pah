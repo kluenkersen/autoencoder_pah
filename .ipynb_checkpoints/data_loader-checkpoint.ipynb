{
 "cells": [
  {
   "cell_type": "code",
   "execution_count": 1,
   "metadata": {},
   "outputs": [],
   "source": [
    "import pandas as pd\n",
    "\n",
    "from torch.utils.data import DataLoader"
   ]
  },
  {
   "cell_type": "code",
   "execution_count": 2,
   "metadata": {},
   "outputs": [],
   "source": [
    "class CSVLoader(object):\n",
    "    '''\n",
    "        loads csv file and gives you timeframe back\n",
    "    '''\n",
    "    def __init__(self, data_path, timeframe=5):\n",
    "        self.data = pd.read_csv(data_path)\n",
    "        self.timeframe = timeframe\n",
    "    \n",
    "    def __len__(self):\n",
    "        '''\n",
    "            Number of values in the dataframe\n",
    "        '''\n",
    "        return (self.data.shape[0] - self.timeframe)\n",
    "        \n",
    "    def __getitem__(self, index):\n",
    "        '''\n",
    "            Get X rows out of the csv file reshaped to a numpy array in one row\n",
    "        '''\n",
    "        result = self.data[index: index + self.timeframe]\n",
    "        result = result.values.reshape(1, self.timeframe * self.data.shape[1])\n",
    "        return result\n"
   ]
  },
  {
   "cell_type": "code",
   "execution_count": 3,
   "metadata": {},
   "outputs": [],
   "source": [
    "def get_loader(data_path='data/autoencoder_v1_PAH3DEEUR_1 Min_Bid_2008.10.21_2018.10.27', \n",
    "               batch_size = 64):\n",
    "    '''\n",
    "        loads the dataloader object from the dataset\n",
    "    '''\n",
    "    loader = CSVLoader(data_path=data_path, timeframe = 5)\n",
    "    data_loader = DataLoader(dataset=loader, batch_size = batch_size)\n",
    "    return data_loader"
   ]
  },
  {
   "cell_type": "code",
   "execution_count": 4,
   "metadata": {},
   "outputs": [],
   "source": [
    "dl = get_loader()"
   ]
  },
  {
   "cell_type": "code",
   "execution_count": 7,
   "metadata": {},
   "outputs": [],
   "source": [
    "data = pd.read_csv('data/autoencoder_v1_PAH3DEEUR_1 Min_Bid_2008.10.21_2018.10.27')"
   ]
  },
  {
   "cell_type": "code",
   "execution_count": 9,
   "metadata": {},
   "outputs": [
    {
     "data": {
      "text/plain": [
       "0.38400000000001455      float64\n",
       "0.2749999999999915       float64\n",
       "0.3540000000000134       float64\n",
       "-0.10900000000002308     float64\n",
       "-0.030000000000001137    float64\n",
       "-0.07900000000002194     float64\n",
       "0.0033                   float64\n",
       "dtype: object"
      ]
     },
     "execution_count": 9,
     "metadata": {},
     "output_type": "execute_result"
    }
   ],
   "source": [
    "data.dtypes"
   ]
  },
  {
   "cell_type": "code",
   "execution_count": null,
   "metadata": {},
   "outputs": [],
   "source": []
  },
  {
   "cell_type": "code",
   "execution_count": null,
   "metadata": {},
   "outputs": [],
   "source": []
  },
  {
   "cell_type": "code",
   "execution_count": null,
   "metadata": {},
   "outputs": [],
   "source": []
  },
  {
   "cell_type": "code",
   "execution_count": 5,
   "metadata": {},
   "outputs": [
    {
     "name": "stdout",
     "output_type": "stream",
     "text": [
      "tensor([[ 0.5780,  0.5400,  0.0540, -0.0380, -0.5240,  0.4860,  0.0162,  0.3440,\n",
      "          0.0930,  0.2760, -0.2510, -0.0680, -0.1830,  0.0665,  0.0840,  0.0750,\n",
      "          0.0740, -0.0090, -0.0100,  0.0010,  0.0028,  0.1390,  0.1040,  0.0390,\n",
      "         -0.0350, -0.1000,  0.0650,  0.0101,  0.1440,  0.1330,  0.0000, -0.0110,\n",
      "         -0.1440,  0.1330,  0.0075]], dtype=torch.float64)\n",
      "tensor([[ 0.0510,  0.0210,  0.0320, -0.0300, -0.0190, -0.0110,  0.0029,  0.0200,\n",
      "          0.0120,  0.0200, -0.0080,  0.0000, -0.0080,  0.0006,  0.0250,  0.0100,\n",
      "          0.0080, -0.0150, -0.0170,  0.0020,  0.0026,  0.0290,  0.0290,  0.0180,\n",
      "          0.0000, -0.0110,  0.0110,  0.0024,  0.0170,  0.0170,  0.0060,  0.0000,\n",
      "         -0.0110,  0.0110,  0.0020]], dtype=torch.float64)\n",
      "tensor([[ 0.1450,  0.0060,  0.1190, -0.1390, -0.0260, -0.1130,  0.0120,  0.0340,\n",
      "          0.0100,  0.0280, -0.0240, -0.0060, -0.0180,  0.0089,  0.0880,  0.0650,\n",
      "          0.0330, -0.0230, -0.0550,  0.0320,  0.0277,  0.0960,  0.0810,  0.0350,\n",
      "         -0.0150, -0.0610,  0.0460,  0.0053,  0.0560,  0.0560,  0.0080,  0.0000,\n",
      "         -0.0480,  0.0480,  0.0040]], dtype=torch.float64)\n",
      "tensor([[ 0.0240,  0.0210,  0.0040, -0.0030, -0.0200,  0.0170,  0.0098,  0.1030,\n",
      "          0.0130,  0.0930, -0.0900, -0.0100, -0.0800,  0.0100,  0.0210,  0.0080,\n",
      "          0.0190, -0.0130, -0.0020, -0.0110,  0.0017,  0.0440,  0.0150,  0.0310,\n",
      "         -0.0290, -0.0130, -0.0160,  0.0011,  0.0720,  0.0550,  0.0520, -0.0170,\n",
      "         -0.0200,  0.0030,  0.0357]], dtype=torch.float64)\n",
      "tensor([[ 0.0340,  0.0330,  0.0110, -0.0010, -0.0230,  0.0220,  0.0019,  0.0510,\n",
      "          0.0220,  0.0190, -0.0290, -0.0320,  0.0030,  0.0057,  0.0480,  0.0240,\n",
      "          0.0000, -0.0240, -0.0480,  0.0240,  0.0050,  0.0140,  0.0070,  0.0110,\n",
      "         -0.0070, -0.0030, -0.0040,  0.0027,  0.0510,  0.0430,  0.0510, -0.0080,\n",
      "          0.0000, -0.0080,  0.0046]], dtype=torch.float64)\n",
      "tensor([[ 0.0270,  0.0150,  0.0020, -0.0120, -0.0250,  0.0130,  0.0062,  0.1240,\n",
      "          0.1080,  0.0230, -0.0160, -0.1010,  0.0850,  0.0047,  0.0370,  0.0180,\n",
      "          0.0310, -0.0190, -0.0060, -0.0130,  0.0088,  0.0650,  0.0460,  0.0080,\n",
      "         -0.0190, -0.0570,  0.0380,  0.0188,  0.0820,  0.0570,  0.0040, -0.0250,\n",
      "         -0.0780,  0.0530,  0.0073]], dtype=torch.float64)\n",
      "tensor([[ 0.0920,  0.0450,  0.0650, -0.0470, -0.0270, -0.0200,  0.0049,  0.1140,\n",
      "          0.0170,  0.0200, -0.0970, -0.0940, -0.0030,  0.0077,  0.0600,  0.0510,\n",
      "          0.0540, -0.0090, -0.0060, -0.0030,  0.0230,  0.0610,  0.0510,  0.0320,\n",
      "         -0.0100, -0.0290,  0.0190,  0.0166,  0.1780,  0.1380,  0.0240, -0.0400,\n",
      "         -0.1540,  0.1140,  0.0181]], dtype=torch.float64)\n",
      "tensor([[ 0.0450,  0.0310,  0.0100, -0.0140, -0.0350,  0.0210,  0.0036,  0.0680,\n",
      "          0.0100,  0.0490, -0.0580, -0.0190, -0.0390,  0.0045,  0.0400,  0.0400,\n",
      "          0.0370,  0.0000, -0.0030,  0.0030,  0.0039,  0.0150,  0.0070,  0.0090,\n",
      "         -0.0080, -0.0060, -0.0020,  0.0026,  0.0760,  0.0640,  0.0500, -0.0120,\n",
      "         -0.0260,  0.0140,  0.0100]], dtype=torch.float64)\n",
      "tensor([[0., 0., 0., 0., 0., 0., 0., 0., 0., 0., 0., 0., 0., 0., 0., 0., 0., 0., 0., 0., 0., 0., 0., 0.,\n",
      "         0., 0., 0., 0., 0., 0., 0., 0., 0., 0., 0.]], dtype=torch.float64)\n",
      "tensor([[0., 0., 0., 0., 0., 0., 0., 0., 0., 0., 0., 0., 0., 0., 0., 0., 0., 0., 0., 0., 0., 0., 0., 0.,\n",
      "         0., 0., 0., 0., 0., 0., 0., 0., 0., 0., 0.]], dtype=torch.float64)\n"
     ]
    }
   ],
   "source": [
    "ds = iter(dl)\n",
    "for i in range(10):\n",
    "    print(ds.next()[0])"
   ]
  },
  {
   "cell_type": "code",
   "execution_count": null,
   "metadata": {},
   "outputs": [],
   "source": []
  }
 ],
 "metadata": {
  "kernelspec": {
   "display_name": "conda_pytorch_p36",
   "language": "python",
   "name": "conda_pytorch_p36"
  },
  "language_info": {
   "codemirror_mode": {
    "name": "ipython",
    "version": 3
   },
   "file_extension": ".py",
   "mimetype": "text/x-python",
   "name": "python",
   "nbconvert_exporter": "python",
   "pygments_lexer": "ipython3",
   "version": "3.6.5"
  }
 },
 "nbformat": 4,
 "nbformat_minor": 2
}
