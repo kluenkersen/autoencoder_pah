{
 "cells": [
  {
   "cell_type": "code",
   "execution_count": 1,
   "metadata": {},
   "outputs": [],
   "source": [
    "import solver\n",
    "from data_loader import get_loader\n",
    "from solver import Solver\n"
   ]
  },
  {
   "cell_type": "code",
   "execution_count": 2,
   "metadata": {},
   "outputs": [],
   "source": [
    "class Configer():\n",
    "    def __init__(self):\n",
    "        self.lr = 1e-4\n",
    "        self.num_epochs = 200\n",
    "        self.batch_size = 64\n",
    "        self.gmm_k =4\n",
    "        self.lambda_energy = 0.1\n",
    "        self.lambda_cov_diag = 0.005\n",
    "        self.pretrained_model = None\n",
    "        self.mode = 'train'\n",
    "        self.use_tensorboard = False\n",
    "        self.data_path = 'data/autoencoder_v1_PAH3DEEUR_1 Min_Bid_2008.10.21_2018.10.27'\n",
    "        self.log_path = 'data/logs'\n",
    "        self.model_save_path = 'data/models'\n",
    "        self.log_step = 10\n",
    "        self.sample_step = 194\n",
    "        self.model_save_step = 194\n",
    "        "
   ]
  },
  {
   "cell_type": "code",
   "execution_count": 3,
   "metadata": {},
   "outputs": [],
   "source": [
    "config = Configer()"
   ]
  },
  {
   "cell_type": "code",
   "execution_count": null,
   "metadata": {},
   "outputs": [],
   "source": [
    "config.lr"
   ]
  },
  {
   "cell_type": "code",
   "execution_count": 5,
   "metadata": {},
   "outputs": [],
   "source": [
    "data_loader = get_loader(config.data_path, batch_size=config.batch_size)"
   ]
  },
  {
   "cell_type": "code",
   "execution_count": 6,
   "metadata": {},
   "outputs": [
    {
     "name": "stdout",
     "output_type": "stream",
     "text": [
      "DaGMM\n",
      "DaGMM(\n",
      "  (encoder): Sequential(\n",
      "    (0): Linear(in_features=4, out_features=1, bias=True)\n",
      "  )\n",
      "  (decoder): Sequential(\n",
      "    (0): Linear(in_features=1, out_features=4, bias=True)\n",
      "  )\n",
      "  (estimation): Sequential(\n",
      "    (0): Linear(in_features=3, out_features=10, bias=True)\n",
      "    (1): Tanh()\n",
      "    (2): Dropout(p=0.5)\n",
      "    (3): Linear(in_features=10, out_features=2, bias=True)\n",
      "    (4): Softmax()\n",
      "  )\n",
      ")\n",
      "The number of parameters: 75\n"
     ]
    }
   ],
   "source": [
    "solver = Solver(data_loader, vars(config))"
   ]
  },
  {
   "cell_type": "code",
   "execution_count": null,
   "metadata": {},
   "outputs": [],
   "source": [
    "solver.train()"
   ]
  },
  {
   "cell_type": "code",
   "execution_count": 8,
   "metadata": {
    "scrolled": true
   },
   "outputs": [
    {
     "name": "stdout",
     "output_type": "stream",
     "text": [
      "<class 'torch.Tensor'>\n",
      "torch.Size([1, 35])\n",
      "tensor([[ 0.5780,  0.5400,  0.0540, -0.0380, -0.5240,  0.4860,  0.0162,  0.3440,\n",
      "          0.0930,  0.2760, -0.2510, -0.0680, -0.1830,  0.0665,  0.0840,  0.0750,\n",
      "          0.0740, -0.0090, -0.0100,  0.0010,  0.0028,  0.1390,  0.1040,  0.0390,\n",
      "         -0.0350, -0.1000,  0.0650,  0.0101,  0.1440,  0.1330,  0.0000, -0.0110,\n",
      "         -0.1440,  0.1330,  0.0075]], dtype=torch.float64)\n"
     ]
    }
   ],
   "source": [
    "import tqdm\n",
    "import torch\n",
    "for i in iter((data_loader)):\n",
    "    print(type(i))\n",
    "    print(i[0].shape)\n",
    "    print(i.double())\n",
    "    break\n",
    "          \n",
    "          "
   ]
  },
  {
   "cell_type": "code",
   "execution_count": null,
   "metadata": {},
   "outputs": [],
   "source": [
    "!pip install -U torch"
   ]
  },
  {
   "cell_type": "code",
   "execution_count": null,
   "metadata": {},
   "outputs": [],
   "source": []
  }
 ],
 "metadata": {
  "kernelspec": {
   "display_name": "Python 2",
   "language": "python",
   "name": "python2"
  },
  "language_info": {
   "codemirror_mode": {
    "name": "ipython",
    "version": 2
   },
   "file_extension": ".py",
   "mimetype": "text/x-python",
   "name": "python",
   "nbconvert_exporter": "python",
   "pygments_lexer": "ipython2",
   "version": "2.7.13"
  }
 },
 "nbformat": 4,
 "nbformat_minor": 2
}
