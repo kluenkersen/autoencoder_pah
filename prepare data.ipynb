{
 "cells": [
  {
   "cell_type": "code",
   "execution_count": 1,
   "metadata": {},
   "outputs": [],
   "source": [
    "import pandas as pd\n",
    "import numpy as np"
   ]
  },
  {
   "cell_type": "code",
   "execution_count": 6,
   "metadata": {},
   "outputs": [
    {
     "data": {
      "text/html": [
       "<div>\n",
       "<style scoped>\n",
       "    .dataframe tbody tr th:only-of-type {\n",
       "        vertical-align: middle;\n",
       "    }\n",
       "\n",
       "    .dataframe tbody tr th {\n",
       "        vertical-align: top;\n",
       "    }\n",
       "\n",
       "    .dataframe thead th {\n",
       "        text-align: right;\n",
       "    }\n",
       "</style>\n",
       "<table border=\"1\" class=\"dataframe\">\n",
       "  <thead>\n",
       "    <tr style=\"text-align: right;\">\n",
       "      <th></th>\n",
       "      <th>Time (UTC)</th>\n",
       "      <th>Open</th>\n",
       "      <th>High</th>\n",
       "      <th>Low</th>\n",
       "      <th>Close</th>\n",
       "      <th>Volume</th>\n",
       "    </tr>\n",
       "  </thead>\n",
       "  <tbody>\n",
       "    <tr>\n",
       "      <th>0</th>\n",
       "      <td>2015.04.21 07:02:00</td>\n",
       "      <td>87.862</td>\n",
       "      <td>88.137</td>\n",
       "      <td>87.753</td>\n",
       "      <td>87.783</td>\n",
       "      <td>0.00330</td>\n",
       "    </tr>\n",
       "    <tr>\n",
       "      <th>1</th>\n",
       "      <td>2015.04.21 07:03:00</td>\n",
       "      <td>87.782</td>\n",
       "      <td>88.322</td>\n",
       "      <td>87.744</td>\n",
       "      <td>88.268</td>\n",
       "      <td>0.01623</td>\n",
       "    </tr>\n",
       "    <tr>\n",
       "      <th>2</th>\n",
       "      <td>2015.04.21 07:04:00</td>\n",
       "      <td>88.238</td>\n",
       "      <td>88.331</td>\n",
       "      <td>87.987</td>\n",
       "      <td>88.055</td>\n",
       "      <td>0.06653</td>\n",
       "    </tr>\n",
       "  </tbody>\n",
       "</table>\n",
       "</div>"
      ],
      "text/plain": [
       "            Time (UTC)    Open    High     Low   Close  Volume \n",
       "0  2015.04.21 07:02:00  87.862  88.137  87.753  87.783  0.00330\n",
       "1  2015.04.21 07:03:00  87.782  88.322  87.744  88.268  0.01623\n",
       "2  2015.04.21 07:04:00  88.238  88.331  87.987  88.055  0.06653"
      ]
     },
     "execution_count": 6,
     "metadata": {},
     "output_type": "execute_result"
    }
   ],
   "source": [
    "df = pd.read_csv('data/PAH3DEEUR_1 Min_Bid_2008.10.21_2018.10.27.csv')\n",
    "data = pd.DataFrame()\n",
    "data['high_low'] = df.High - df.Low\n",
    "data['high_open'] = df.High - df.Open\n",
    "data['high_close'] = df.High - df.Close\n",
    "data['low_open'] = df.Low - df.Open\n",
    "data['low_close'] = df.Low - df.Close\n",
    "data['close_open'] = df.Close - df.Open\n",
    "data['volume'] = df['Volume ']\n",
    "data.to_csv()"
   ]
  },
  {
   "cell_type": "code",
   "execution_count": 8,
   "metadata": {},
   "outputs": [],
   "source": [
    "data = pd.DataFrame()\n",
    "data['high_low'] = df.High - df.Low\n",
    "data['high_open'] = df.High - df.Open\n",
    "data['high_close'] = df.High - df.Close\n",
    "data['low_open'] = df.Low - df.Open\n",
    "data['low_close'] = df.Low - df.Close\n",
    "data['close_open'] = df.Close - df.Open\n",
    "data['volume'] = df['Volume ']"
   ]
  },
  {
   "cell_type": "code",
   "execution_count": 18,
   "metadata": {},
   "outputs": [
    {
     "data": {
      "text/html": [
       "<div>\n",
       "<style scoped>\n",
       "    .dataframe tbody tr th:only-of-type {\n",
       "        vertical-align: middle;\n",
       "    }\n",
       "\n",
       "    .dataframe tbody tr th {\n",
       "        vertical-align: top;\n",
       "    }\n",
       "\n",
       "    .dataframe thead th {\n",
       "        text-align: right;\n",
       "    }\n",
       "</style>\n",
       "<table border=\"1\" class=\"dataframe\">\n",
       "  <thead>\n",
       "    <tr style=\"text-align: right;\">\n",
       "      <th></th>\n",
       "      <th>high_low</th>\n",
       "      <th>high_open</th>\n",
       "      <th>high_close</th>\n",
       "      <th>low_open</th>\n",
       "      <th>low_close</th>\n",
       "      <th>close_open</th>\n",
       "      <th>volume</th>\n",
       "    </tr>\n",
       "  </thead>\n",
       "  <tbody>\n",
       "    <tr>\n",
       "      <th>0</th>\n",
       "      <td>0.384</td>\n",
       "      <td>0.275</td>\n",
       "      <td>0.354</td>\n",
       "      <td>-0.109</td>\n",
       "      <td>-0.030</td>\n",
       "      <td>-0.079</td>\n",
       "      <td>0.00330</td>\n",
       "    </tr>\n",
       "    <tr>\n",
       "      <th>1</th>\n",
       "      <td>0.578</td>\n",
       "      <td>0.540</td>\n",
       "      <td>0.054</td>\n",
       "      <td>-0.038</td>\n",
       "      <td>-0.524</td>\n",
       "      <td>0.486</td>\n",
       "      <td>0.01623</td>\n",
       "    </tr>\n",
       "    <tr>\n",
       "      <th>2</th>\n",
       "      <td>0.344</td>\n",
       "      <td>0.093</td>\n",
       "      <td>0.276</td>\n",
       "      <td>-0.251</td>\n",
       "      <td>-0.068</td>\n",
       "      <td>-0.183</td>\n",
       "      <td>0.06653</td>\n",
       "    </tr>\n",
       "  </tbody>\n",
       "</table>\n",
       "</div>"
      ],
      "text/plain": [
       "   high_low  high_open  high_close  low_open  low_close  close_open   volume\n",
       "0     0.384      0.275       0.354    -0.109     -0.030      -0.079  0.00330\n",
       "1     0.578      0.540       0.054    -0.038     -0.524       0.486  0.01623\n",
       "2     0.344      0.093       0.276    -0.251     -0.068      -0.183  0.06653"
      ]
     },
     "execution_count": 18,
     "metadata": {},
     "output_type": "execute_result"
    }
   ],
   "source": [
    "data.head(3)"
   ]
  },
  {
   "cell_type": "code",
   "execution_count": 14,
   "metadata": {},
   "outputs": [],
   "source": [
    "data.to_csv('data/autoencoder_v1_PAH3DEEUR_1 Min_Bid_2008.10.21_2018.10.27', \n",
    "            header=False, index=False, )"
   ]
  },
  {
   "cell_type": "code",
   "execution_count": 17,
   "metadata": {},
   "outputs": [
    {
     "data": {
      "text/html": [
       "<div>\n",
       "<style scoped>\n",
       "    .dataframe tbody tr th:only-of-type {\n",
       "        vertical-align: middle;\n",
       "    }\n",
       "\n",
       "    .dataframe tbody tr th {\n",
       "        vertical-align: top;\n",
       "    }\n",
       "\n",
       "    .dataframe thead th {\n",
       "        text-align: right;\n",
       "    }\n",
       "</style>\n",
       "<table border=\"1\" class=\"dataframe\">\n",
       "  <thead>\n",
       "    <tr style=\"text-align: right;\">\n",
       "      <th></th>\n",
       "      <th>0</th>\n",
       "      <th>1</th>\n",
       "      <th>2</th>\n",
       "      <th>3</th>\n",
       "      <th>4</th>\n",
       "      <th>5</th>\n",
       "      <th>6</th>\n",
       "    </tr>\n",
       "  </thead>\n",
       "  <tbody>\n",
       "    <tr>\n",
       "      <th>0</th>\n",
       "      <td>0.384</td>\n",
       "      <td>0.275</td>\n",
       "      <td>0.354</td>\n",
       "      <td>-0.109</td>\n",
       "      <td>-0.030</td>\n",
       "      <td>-0.079</td>\n",
       "      <td>0.00330</td>\n",
       "    </tr>\n",
       "    <tr>\n",
       "      <th>1</th>\n",
       "      <td>0.578</td>\n",
       "      <td>0.540</td>\n",
       "      <td>0.054</td>\n",
       "      <td>-0.038</td>\n",
       "      <td>-0.524</td>\n",
       "      <td>0.486</td>\n",
       "      <td>0.01623</td>\n",
       "    </tr>\n",
       "    <tr>\n",
       "      <th>2</th>\n",
       "      <td>0.344</td>\n",
       "      <td>0.093</td>\n",
       "      <td>0.276</td>\n",
       "      <td>-0.251</td>\n",
       "      <td>-0.068</td>\n",
       "      <td>-0.183</td>\n",
       "      <td>0.06653</td>\n",
       "    </tr>\n",
       "  </tbody>\n",
       "</table>\n",
       "</div>"
      ],
      "text/plain": [
       "       0      1      2      3      4      5        6\n",
       "0  0.384  0.275  0.354 -0.109 -0.030 -0.079  0.00330\n",
       "1  0.578  0.540  0.054 -0.038 -0.524  0.486  0.01623\n",
       "2  0.344  0.093  0.276 -0.251 -0.068 -0.183  0.06653"
      ]
     },
     "execution_count": 17,
     "metadata": {},
     "output_type": "execute_result"
    }
   ],
   "source": [
    "df1 = pd.read_csv('data/autoencoder_v1_PAH3DEEUR_1 Min_Bid_2008.10.21_2018.10.27', header=None)\n",
    "df1.head(3)"
   ]
  },
  {
   "cell_type": "code",
   "execution_count": null,
   "metadata": {},
   "outputs": [],
   "source": []
  }
 ],
 "metadata": {
  "kernelspec": {
   "display_name": "Python 2",
   "language": "python",
   "name": "python2"
  },
  "language_info": {
   "codemirror_mode": {
    "name": "ipython",
    "version": 2
   },
   "file_extension": ".py",
   "mimetype": "text/x-python",
   "name": "python",
   "nbconvert_exporter": "python",
   "pygments_lexer": "ipython2",
   "version": "2.7.13"
  }
 },
 "nbformat": 4,
 "nbformat_minor": 2
}
